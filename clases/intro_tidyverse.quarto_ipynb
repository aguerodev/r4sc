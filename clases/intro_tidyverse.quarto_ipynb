{
  "cells": [
    {
      "cell_type": "markdown",
      "metadata": {},
      "source": [
        "---\n",
        "title: \" Introducción a Tidyverse\"\n",
        "subtitle: \"Descubriendo una manera sencilla y divertida de relacionarnos con la computación y en análisis de los datos\"\n",
        "abstract: \"En esta sesión exploraremos cómo R se ha actualizado y con la incorporación de nuevas herramientas como Tidyverse puede revolucionar nuestra manera de interactuar con las computadoras y analizar datos. Lejos de los métodos tradicionales complejos y tediosos, descubrirás una ruta accesible y diseñada para no programadores para manejar datos.\"\n",
        "lang: \"es\"\n",
        "toc: true\n",
        "code-line-numbers: true\n",
        "code-copy: true\n",
        "format: html\n",
        "filters:\n",
        "  - webr\n",
        "bibliography: references.bib\n",
        "---\n",
        "\n",
        "\n",
        "\n",
        "\n",
        "# parte 1\n",
        "\n",
        "\n",
        "\n",
        "\n",
        "```{webr}\n",
        "#| context: setup\n",
        "\n",
        "datos <- read.csv(\"https://raw.githubusercontent.com/umpirsky/country-list/master/data/en_US/country.csv\")\n",
        "```\n",
        "\n",
        "\n",
        "\n",
        "\n",
        "```{webr-r}\n",
        "datos\n",
        "```\n",
        "\n",
        "# parte 2\n",
        "\n",
        "# parte 3\n",
        "\n",
        "[@wickham_tidy_2014]"
      ],
      "id": "efcb089c"
    }
  ],
  "metadata": {
    "kernelspec": {
      "display_name": "Python 3",
      "language": "python",
      "name": "python3"
    }
  },
  "nbformat": 4,
  "nbformat_minor": 5
}